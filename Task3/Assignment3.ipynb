import nltk
from nltk.tokenize import word_tokenize
from nltk.corpus import stopwords
from difflib import get_close_matches

# Download necessary NLTK data
nltk.download('punkt')
nltk.download('stopwords')

# Define stop words
stop_words = set(stopwords.words('english'))

# Define chatbot responses
responses = {
    'castle swimmer': "Castle Swimmer is a webtoon about a young beacon named Kappa, whose very existence shapes the destinies of the underwater kingdoms.",
    'main characters': "The main characters are Kappa, the Beacon, and Siren, the cursed prince of the Shark Kingdom.",
    'plot': "In chapters 83-89, Kappa and Siren continue to grapple with their destinies as new prophecies unfold, affecting their fates and the underwater kingdoms.",
    'prophecy': "The new prophecy in chapters 83-89 reveals that Kappa's role as the beacon is not as clear-cut as previously thought, leading to difficult choices.",
    'siren': "Siren is the prince of the Shark Kingdom, cursed to kill the beacon, but his feelings for Kappa complicate this fate.",
    'kappa': "Kappa is the beacon, destined to fulfill prophecies that shape the underwater kingdoms, but he struggles with the weight of his responsibilities.",
    'shark kingdom': "The Shark Kingdom is one of the underwater kingdoms, ruled by Siren's family. Siren is cursed to kill the beacon.",
    'chapters 83-89': "In chapters 83-89, Kappa and Siren are faced with new prophecies and difficult decisions that challenge their destinies."
}

# Function to preprocess the input and remove stopwords
def preprocess_text(text):
    tokens = word_tokenize(text.lower())
    filtered_tokens = [word for word in tokens if word not in stop_words and word.isalpha()]
    return filtered_tokens

# Function to match keywords based on similarity
def get_keyword_match(user_input):
    input_tokens = preprocess_text(user_input)
    all_keywords = list(responses.keys())
    
    for word in input_tokens:
        matches = get_close_matches(word, all_keywords, n=1, cutoff=0.6)  # Set a threshold for matching
        if matches:
            return matches[0]  # Return the best match found
    return None

# Function to get chatbot's response based on keywords
def chatbot_response(user_input):
    keyword_match = get_keyword_match(user_input)
    if keyword_match:
        return responses[keyword_match]
    return "I'm sorry, I don't have an answer for that. Can you ask something else?"

# Function to start the chatbot interaction
def start_chatbot():
    print("Hello! I am a Castle Swimmer chatbot. Ask me questions about chapters 83-89.")
    print("Type 'exit' to end the chat.")
    
    while True:
        # Get user input
        user_input = input("\nYou: ")
        
        # Exit the chat loop
        if user_input.lower() == 'exit':
            print("Goodbye!")
            break
        
        # Get the chatbot's response
        response = chatbot_response(user_input)
        print(f"Bot: {response}")

# Start the chatbot
start_chatbot()
