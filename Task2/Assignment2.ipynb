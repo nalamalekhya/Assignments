import pandas as pd
from textblob import TextBlob

# Read data from Excel file (replace 'comments.xlsx' with your file path)
# Make sure your Excel file has a column named 'comments'
df = pd.read_excel('/content/comments.xlsx')

# Check the first few rows to ensure the data is loaded correctly
print("Initial Data:")
print(df.head())

# Function to get sentiment
def analyze_sentiment(comment):
    analysis = TextBlob(comment)
    # Classify the polarity of the comment
    if analysis.sentiment.polarity > 0:
        return 'Positive'
    elif analysis.sentiment.polarity < 0:
        return 'Negative'
    else:
        return 'Neutral'

# Apply the sentiment analysis function to the comments
df['sentiment'] = df['comments'].apply(analyze_sentiment)

# Calculate the percentage of positive and negative comments
sentiment_counts = df['sentiment'].value_counts(normalize=True) * 100

# Print the results
print("\nSentiment Analysis Results:")
print(sentiment_counts)

# Summary
positive_percentage = sentiment_counts.get('Positive', 0)
negative_percentage = sentiment_counts.get('Negative', 0)
neutral_percentage = sentiment_counts.get('Neutral', 0)

print("\nSummary of Sentiment Analysis:")
print(f"Positive Comments: {positive_percentage:.2f}%")
print(f"Negative Comments: {negative_percentage:.2f}%")
print(f"Neutral Comments: {neutral_percentage:.2f}%")
